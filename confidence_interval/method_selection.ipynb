{
 "cells": [
  {
   "cell_type": "code",
   "execution_count": null,
   "metadata": {},
   "outputs": [],
   "source": [
    "import rouskinhf\n",
    "import pandas as pd\n",
    "import numpy as np\n",
    "import matplotlib.pyplot as plt\n",
    "from statsmodels.stats.proportion import proportion_confint\n",
    "from scipy.stats import chi2\n",
    "# import poisson confidence interval\n",
    "import statsmodels.stats.proportion as smp\n",
    "\n",
    "from scipy.stats import chi2\n",
    "# import poisson confidence interval\n",
    "import statsmodels.stats.proportion as smp\n",
    "import plotly.express as px\n",
    "from tqdm import tqdm\n"
   ]
  },
  {
   "cell_type": "markdown",
   "metadata": {},
   "source": [
    "# Method selection\n",
    "\n",
    "- get a distribution of the DMS signal\n",
    "- for different values of p and n, compute the different confidence intervals and their performance\n",
    "    - grid search for p and n\n",
    "    - DMS signal distribution for p and grid search for n \n"
   ]
  },
  {
   "cell_type": "markdown",
   "metadata": {},
   "source": [
    "## Methods definitions\n",
    "### Bootstrapping\n",
    "\n",
    "Draw n datapoints with a probability p and take P2.5 and P97.5 as interval boundaries"
   ]
  },
  {
   "cell_type": "code",
   "execution_count": null,
   "metadata": {},
   "outputs": [],
   "source": [
    "def bootstrapping(p, n, n_boot=10000, alpha=0.05):\n",
    "    v = np.random.binomial(n, p, size=(n_boot, len(p))) / n\n",
    "    return np.array(np.percentile(v, [alpha/2*100, (1-alpha/2)*100], axis=0))"
   ]
  },
  {
   "cell_type": "markdown",
   "metadata": {},
   "source": [
    "### Poisson"
   ]
  },
  {
   "cell_type": "code",
   "execution_count": null,
   "metadata": {},
   "outputs": [],
   "source": [
    "\n",
    "def poisson(p, n, alpha=0.05): \n",
    "    \"\"\"\n",
    "    uses chisquared info to get the poisson interval. Uses scipy.stats \n",
    "    (imports in function). \n",
    "    \"\"\"\n",
    "    if hasattr(p, '__iter__'):\n",
    "        p = np.array(p)\n",
    "    k = n * p\n",
    "    a = alpha\n",
    "    low, high = (chi2.ppf(a/2, 2*k) / 2, chi2.ppf(1-a/2, 2*k + 2) / 2)\n",
    "    if hasattr(k, '__iter__'):\n",
    "        low[k == 0] = 0.0\n",
    "    elif k == 0: \n",
    "        low = 0.0\n",
    "    return low/n, high/n\n",
    "\n",
    "poisson([0.5], 100)"
   ]
  },
  {
   "cell_type": "markdown",
   "metadata": {},
   "source": [
    "### Many methods"
   ]
  },
  {
   "cell_type": "code",
   "execution_count": null,
   "metadata": {},
   "outputs": [],
   "source": [
    "# check the relevance of the formula\n",
    "def method_factory(method):\n",
    "    def method_wrapper(p, n, alpha=0.05):\n",
    "        if hasattr(p, '__iter__'):\n",
    "            p = np.array(p)\n",
    "        return np.stack(proportion_confint(p * n, n, alpha=alpha, method=method))\n",
    "    method_wrapper.__name__ = method\n",
    "    return method_wrapper\n",
    "\n",
    "methods = dict(\n",
    "    poisson = poisson,\n",
    "    # bootstrapping = bootstrapping,\n",
    "    wilson = method_factory('wilson'),\n",
    "    # binom_test = method_factory('binom_test'),\n",
    "    agresti_coull = method_factory('agresti_coull'),\n",
    "    jeffreys = method_factory('jeffreys'),\n",
    "    normal = method_factory('normal'),\n",
    "    beta = method_factory('beta')\n",
    ")\n"
   ]
  },
  {
   "cell_type": "markdown",
   "metadata": {},
   "source": [
    "# With simulated data based off real DMS distributions"
   ]
  },
  {
   "cell_type": "code",
   "execution_count": null,
   "metadata": {},
   "outputs": [],
   "source": [
    "import pandas as pd\n",
    "\n",
    "dms_datapoints = np.concatenate(pd.read_feather('/Users/yvesmartin/src/DMS-MaPseq_methods/df.feather').drop_duplicates('sequence')['sub_rate'].values)\n",
    "dms_datapoints = dms_datapoints[dms_datapoints != -1000.]\n",
    "\n",
    "plt.hist(dms_datapoints, bins=100)\n",
    "plt.show()"
   ]
  },
  {
   "cell_type": "code",
   "execution_count": null,
   "metadata": {},
   "outputs": [],
   "source": [
    "\n",
    "# no seed for np\n",
    "np.random.seed(np.random.randint(0, 1000000))\n",
    "\n",
    "alpha = 0.95\n",
    "\n",
    "def subsampling(p, n):\n",
    "    return np.random.binomial(n, p) / n\n",
    "\n",
    "n = 1000\n",
    "N = 1000\n",
    "n_experiments = 10\n",
    "is_in_interval = []\n",
    "\n",
    "for _ in tqdm(range(n_experiments), total = n_experiments):\n",
    "    for n in [100, 200, 500, 1000, 1500, 2000, 5000, 10000]:\n",
    "        true = np.random.choice(dms_datapoints, N) \n",
    "        subsample = subsampling(true, n)\n",
    "        for name, method in methods.items():\n",
    "            interval = method(subsample, n)\n",
    "            for p, min, max in zip(subsample, interval[0], interval[1]):\n",
    "                if p < 0.20:\n",
    "                    is_in_interval.append({\n",
    "                        'n': str(n),\n",
    "                        'p': p,\n",
    "                        'p_interval': '[{}, {}]'.format(np.floor(p*100)/100, (1+np.floor(p*100))/100),\n",
    "                        'method': name,\n",
    "                        'score': sum((interval[0] <= true) & (true <= interval[1])) / len(true),\n",
    "                        'width': np.mean(interval[1] - interval[0]),\n",
    "                        'min': np.mean(interval[0]),\n",
    "                        'max': np.mean(interval[1])\n",
    "                    })\n",
    "\n",
    "is_in_interval = pd.DataFrame(is_in_interval)\n"
   ]
  },
  {
   "cell_type": "code",
   "execution_count": null,
   "metadata": {},
   "outputs": [],
   "source": [
    "# df = pd.read_feather('simu.feather')\n",
    "df = is_in_interval\n",
    "# px.box(is_in_interval, x='round_p', y='score', color='method').show()\n",
    "for n, g in df.groupby('n'):\n",
    "    df.loc[df['n'] == n, 'n'] = '{:,} reads (n={:,})'.format(int(n), len(g))\n",
    "\n",
    "for p, g in df.groupby('p_interval'):\n",
    "    df.loc[df['p_interval'] == p, 'p_interval'] = '{} (n={:,})'.format(p, len(g))"
   ]
  },
  {
   "cell_type": "code",
   "execution_count": null,
   "metadata": {},
   "outputs": [],
   "source": [
    "fig = px.box(df, x='n', y='score', color='method')\n",
    "fig.update_layout(\n",
    "    xaxis_title=\"number of reads in the sub-sample\",\n",
    "    yaxis_title=\"% of the true values in the confidence interval\",  \n",
    "    font=dict(\n",
    "        family=\"Courier New, monospace\",\n",
    "        size=18,\n",
    "        color=\"#7f7f7f\"\n",
    "    ),\n",
    "    height=800, \n",
    "    width = 1200,\n",
    "    #background color\n",
    "    plot_bgcolor='rgba(0,0,0,0)',\n",
    ")\n",
    "# add frame\n",
    "fig.update_layout(\n",
    "    xaxis=dict(\n",
    "        showline=True,\n",
    "        showgrid=False,\n",
    "        showticklabels=True,\n",
    "        linecolor='rgb(204, 204, 204)',\n",
    "        linewidth=2\n",
    "    ),\n",
    "    yaxis=dict(\n",
    "        showline=True,\n",
    "        showgrid=True,\n",
    "        showticklabels=True,\n",
    "        linecolor='rgb(204, 204, 204)',\n",
    "        linewidth=2\n",
    "    )\n",
    ")\n",
    "\n",
    "# add red line at 0.95\n",
    "fig.add_shape(\n",
    "        # Line Vertical\n",
    "        dict(\n",
    "            type=\"line\",\n",
    "            x0=-0.5,\n",
    "            y0=0.95,\n",
    "            x1=len(df['n'].unique())-0.5,\n",
    "            y1=0.95,\n",
    "            line=dict(\n",
    "                color=\"Red\",\n",
    "                width=3,\n",
    "                dash=\"dashdot\",\n",
    "            )\n",
    "))\n",
    "\n",
    "fig.show()\n",
    "\n",
    "# save to pdf\n",
    "import plotly.io as pio\n",
    "pio.write_image(fig, 'images/ci_n.pdf')"
   ]
  },
  {
   "cell_type": "code",
   "execution_count": null,
   "metadata": {},
   "outputs": [],
   "source": [
    "fig = px.box(df.sort_values('p_interval'), x='p_interval', y='score', color='method', points=None,)\n",
    "fig.update_layout(\n",
    "    xaxis_title=\"mutation fraction intervals\",\n",
    "    yaxis_title=\"% of the true values in the conf. interval\",  \n",
    "    font=dict(\n",
    "        family=\"Courier New, monospace\",\n",
    "        size=18,\n",
    "        color=\"#7f7f7f\"\n",
    "    ),\n",
    "    height=800, \n",
    "    width = 1200,\n",
    "    #background color\n",
    "    plot_bgcolor='rgba(0,0,0,0)',\n",
    ")\n",
    "# add frame\n",
    "fig.update_layout(\n",
    "    xaxis=dict(\n",
    "        showline=True,\n",
    "        showgrid=False,\n",
    "        showticklabels=True,\n",
    "        linecolor='rgb(204, 204, 204)',\n",
    "        linewidth=2,\n",
    "        tickangle=90,\n",
    "    ),\n",
    "    yaxis=dict(\n",
    "        showline=True,\n",
    "        showgrid=True,\n",
    "        showticklabels=True,\n",
    "        linecolor='rgb(204, 204, 204)',\n",
    "        linewidth=2\n",
    "    )\n",
    ")\n",
    "\n",
    "\n",
    "# add red line at 0.95\n",
    "fig.add_shape(\n",
    "        # Line Vertical\n",
    "        dict(\n",
    "            type=\"line\",\n",
    "            x0=-0.5,\n",
    "            y0=0.95,\n",
    "            x1=len(df['p_interval'].unique())-0.5,\n",
    "            y1=0.95,\n",
    "            line=dict(\n",
    "                color=\"Red\",\n",
    "                width=3,\n",
    "                dash=\"dashdot\",\n",
    "            )\n",
    "))\n",
    "\n",
    "\n",
    "fig.show()\n",
    "\n",
    "# to pdf\n",
    "import plotly.io as pio\n",
    "pio.write_image(fig, 'images/ci_p.pdf')"
   ]
  },
  {
   "cell_type": "code",
   "execution_count": null,
   "metadata": {},
   "outputs": [],
   "source": []
  },
  {
   "cell_type": "code",
   "execution_count": null,
   "metadata": {},
   "outputs": [],
   "source": []
  }
 ],
 "metadata": {
  "kernelspec": {
   "display_name": "Python 3",
   "language": "python",
   "name": "python3"
  },
  "language_info": {
   "codemirror_mode": {
    "name": "ipython",
    "version": 3
   },
   "file_extension": ".py",
   "mimetype": "text/x-python",
   "name": "python",
   "nbconvert_exporter": "python",
   "pygments_lexer": "ipython3",
   "version": "3.11.6"
  }
 },
 "nbformat": 4,
 "nbformat_minor": 2
}
